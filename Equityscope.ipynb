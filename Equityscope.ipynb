{
  "nbformat": 4,
  "nbformat_minor": 0,
  "metadata": {
    "colab": {
      "provenance": [],
      "gpuType": "T4",
      "cell_execution_strategy": "setup",
      "authorship_tag": "ABX9TyPHiEtiWe2WfuCnpCccU6/D",
      "include_colab_link": true
    },
    "kernelspec": {
      "name": "python3",
      "display_name": "Python 3"
    },
    "language_info": {
      "name": "python"
    }
  },
  "cells": [
    {
      "cell_type": "markdown",
      "metadata": {
        "id": "view-in-github",
        "colab_type": "text"
      },
      "source": [
        "<a href=\"https://colab.research.google.com/github/truenguyensandbox/EquityScope/blob/main/Equityscope.ipynb\" target=\"_parent\"><img src=\"https://colab.research.google.com/assets/colab-badge.svg\" alt=\"Open In Colab\"/></a>"
      ]
    },
    {
      "source": [
        "!pip install yfinance\n",
        "!pip install pandas-datareader\n",
        "import yfinance as yf\n",
        "import pandas as pd\n",
        "import pandas_datareader.data as web\n",
        "\n"
      ],
      "cell_type": "code",
      "metadata": {
        "colab": {
          "base_uri": "https://localhost:8080/"
        },
        "id": "rKKP6dZV2iLW",
        "outputId": "0273fabe-cdfe-4173-e344-5e55acf29adc"
      },
      "execution_count": null,
      "outputs": [
        {
          "output_type": "stream",
          "name": "stdout",
          "text": [
            "Requirement already satisfied: yfinance in /usr/local/lib/python3.11/dist-packages (0.2.57)\n",
            "Requirement already satisfied: pandas>=1.3.0 in /usr/local/lib/python3.11/dist-packages (from yfinance) (2.2.2)\n",
            "Requirement already satisfied: numpy>=1.16.5 in /usr/local/lib/python3.11/dist-packages (from yfinance) (2.0.2)\n",
            "Requirement already satisfied: requests>=2.31 in /usr/local/lib/python3.11/dist-packages (from yfinance) (2.32.3)\n",
            "Requirement already satisfied: multitasking>=0.0.7 in /usr/local/lib/python3.11/dist-packages (from yfinance) (0.0.11)\n",
            "Requirement already satisfied: platformdirs>=2.0.0 in /usr/local/lib/python3.11/dist-packages (from yfinance) (4.3.7)\n",
            "Requirement already satisfied: pytz>=2022.5 in /usr/local/lib/python3.11/dist-packages (from yfinance) (2025.2)\n",
            "Requirement already satisfied: frozendict>=2.3.4 in /usr/local/lib/python3.11/dist-packages (from yfinance) (2.4.6)\n",
            "Requirement already satisfied: peewee>=3.16.2 in /usr/local/lib/python3.11/dist-packages (from yfinance) (3.18.0)\n",
            "Requirement already satisfied: beautifulsoup4>=4.11.1 in /usr/local/lib/python3.11/dist-packages (from yfinance) (4.13.4)\n",
            "Requirement already satisfied: soupsieve>1.2 in /usr/local/lib/python3.11/dist-packages (from beautifulsoup4>=4.11.1->yfinance) (2.7)\n",
            "Requirement already satisfied: typing-extensions>=4.0.0 in /usr/local/lib/python3.11/dist-packages (from beautifulsoup4>=4.11.1->yfinance) (4.13.2)\n",
            "Requirement already satisfied: python-dateutil>=2.8.2 in /usr/local/lib/python3.11/dist-packages (from pandas>=1.3.0->yfinance) (2.9.0.post0)\n",
            "Requirement already satisfied: tzdata>=2022.7 in /usr/local/lib/python3.11/dist-packages (from pandas>=1.3.0->yfinance) (2025.2)\n",
            "Requirement already satisfied: charset-normalizer<4,>=2 in /usr/local/lib/python3.11/dist-packages (from requests>=2.31->yfinance) (3.4.1)\n",
            "Requirement already satisfied: idna<4,>=2.5 in /usr/local/lib/python3.11/dist-packages (from requests>=2.31->yfinance) (3.10)\n",
            "Requirement already satisfied: urllib3<3,>=1.21.1 in /usr/local/lib/python3.11/dist-packages (from requests>=2.31->yfinance) (2.4.0)\n",
            "Requirement already satisfied: certifi>=2017.4.17 in /usr/local/lib/python3.11/dist-packages (from requests>=2.31->yfinance) (2025.4.26)\n",
            "Requirement already satisfied: six>=1.5 in /usr/local/lib/python3.11/dist-packages (from python-dateutil>=2.8.2->pandas>=1.3.0->yfinance) (1.17.0)\n",
            "Requirement already satisfied: pandas-datareader in /usr/local/lib/python3.11/dist-packages (0.10.0)\n",
            "Requirement already satisfied: lxml in /usr/local/lib/python3.11/dist-packages (from pandas-datareader) (5.4.0)\n",
            "Requirement already satisfied: pandas>=0.23 in /usr/local/lib/python3.11/dist-packages (from pandas-datareader) (2.2.2)\n",
            "Requirement already satisfied: requests>=2.19.0 in /usr/local/lib/python3.11/dist-packages (from pandas-datareader) (2.32.3)\n",
            "Requirement already satisfied: numpy>=1.23.2 in /usr/local/lib/python3.11/dist-packages (from pandas>=0.23->pandas-datareader) (2.0.2)\n",
            "Requirement already satisfied: python-dateutil>=2.8.2 in /usr/local/lib/python3.11/dist-packages (from pandas>=0.23->pandas-datareader) (2.9.0.post0)\n",
            "Requirement already satisfied: pytz>=2020.1 in /usr/local/lib/python3.11/dist-packages (from pandas>=0.23->pandas-datareader) (2025.2)\n",
            "Requirement already satisfied: tzdata>=2022.7 in /usr/local/lib/python3.11/dist-packages (from pandas>=0.23->pandas-datareader) (2025.2)\n",
            "Requirement already satisfied: charset-normalizer<4,>=2 in /usr/local/lib/python3.11/dist-packages (from requests>=2.19.0->pandas-datareader) (3.4.1)\n",
            "Requirement already satisfied: idna<4,>=2.5 in /usr/local/lib/python3.11/dist-packages (from requests>=2.19.0->pandas-datareader) (3.10)\n",
            "Requirement already satisfied: urllib3<3,>=1.21.1 in /usr/local/lib/python3.11/dist-packages (from requests>=2.19.0->pandas-datareader) (2.4.0)\n",
            "Requirement already satisfied: certifi>=2017.4.17 in /usr/local/lib/python3.11/dist-packages (from requests>=2.19.0->pandas-datareader) (2025.4.26)\n",
            "Requirement already satisfied: six>=1.5 in /usr/local/lib/python3.11/dist-packages (from python-dateutil>=2.8.2->pandas>=0.23->pandas-datareader) (1.17.0)\n"
          ]
        }
      ]
    },
    {
      "source": [
        "# Get the list of S&P 500 tickers from Wikipedia\n",
        "table = pd.read_html('https://en.wikipedia.org/wiki/List_of_S%26P_500_companies')[0]\n",
        "tickers = table['Symbol'].tolist()"
      ],
      "cell_type": "code",
      "metadata": {
        "id": "OmeHTEki2m1v"
      },
      "execution_count": null,
      "outputs": []
    },
    {
      "source": [
        "# Create an empty dictionary to store the data\n",
        "all_data = {all_data}"
      ],
      "cell_type": "code",
      "metadata": {
        "id": "1QBagL0G2pc9"
      },
      "execution_count": null,
      "outputs": []
    },
    {
      "cell_type": "code",
      "source": [
        "# prompt: tickers\n",
        "\n",
        "import yfinance as yf\n",
        "import pandas as pd\n",
        "import pandas_datareader.data as web\n",
        "# Get the list of S&P 500 tickers from Wikipedia\n",
        "table = pd.read_html('https://en.wikipedia.org/wiki/List_of_S%26P_500_companies')[0]\n",
        "tickers = table['Symbol'].tolist()\n",
        "# Create an empty dictionary to store the data\n",
        "all_data = {}\n",
        "\n",
        "# Loop through the tickers and download the data\n",
        "for ticker in tickers:\n",
        "    try:\n",
        "        data = yf.download(ticker, period=\"1y\")  # Download data for the past year\n",
        "        if not data.empty:  # Check if data was successfully downloaded\n",
        "            all_data[ticker] = data\n",
        "        else:\n",
        "            print(f\"No data found for {ticker}\")\n",
        "    except Exception as e:\n",
        "        print(f\"Error downloading data for {ticker}: {e}\")\n",
        "\n",
        "# Combine all data into a single DataFrame (optional)\n",
        "#combined_data = pd.concat(all_data, axis=1, keys=all_data.keys())\n",
        "#print(combined_data)\n"
      ],
      "metadata": {
        "id": "WRwGvxtr4Cz8"
      },
      "execution_count": null,
      "outputs": []
    },
    {
      "source": [
        "import yfinance as yf\n",
        "\n",
        "# Assuming `tickers` is a list of stock tickers and `all_data` is a dictionary\n",
        "tickers = [\"AAPL\", \"MSFT\", \"GOOGL\"]  # Example tickers\n",
        "all_data = {}\n",
        "\n",
        "for ticker in tickers:\n",
        "    try:\n",
        "        # Download data using yfinance\n",
        "        data = yf.download(ticker, period='1mo')\n",
        "\n",
        "        # Store the data in the dictionary\n",
        "        all_data[ticker] = data\n",
        "        print(f\"Data downloaded successfully for {ticker}\")\n",
        "    except Exception as e:\n",
        "        print(f\"Error fetching data for {ticker}: {e}\")"
      ],
      "cell_type": "code",
      "metadata": {
        "colab": {
          "base_uri": "https://localhost:8080/"
        },
        "id": "y-Cri3aB2ut-",
        "outputId": "fd87da9f-b015-4b3b-9069-91e00ec07501"
      },
      "execution_count": null,
      "outputs": [
        {
          "output_type": "stream",
          "name": "stdout",
          "text": [
            "YF.download() has changed argument auto_adjust default to True\n"
          ]
        },
        {
          "output_type": "stream",
          "name": "stderr",
          "text": [
            "\r[*********************100%***********************]  1 of 1 completed\n"
          ]
        },
        {
          "output_type": "stream",
          "name": "stdout",
          "text": [
            "Data downloaded successfully for AAPL\n"
          ]
        },
        {
          "output_type": "stream",
          "name": "stderr",
          "text": [
            "[*********************100%***********************]  1 of 1 completed\n",
            "[*********************100%***********************]  1 of 1 completed"
          ]
        },
        {
          "output_type": "stream",
          "name": "stdout",
          "text": [
            "Data downloaded successfully for MSFT\n",
            "Data downloaded successfully for GOOGL\n"
          ]
        },
        {
          "output_type": "stream",
          "name": "stderr",
          "text": [
            "\n"
          ]
        }
      ]
    },
    {
      "source": [
        "import yfinance as yf\n",
        "\n",
        "# Example list of tickers\n",
        "tickers = [\"AAPL\", \"MSFT\", \"GOOGL\"]\n",
        "all_data = {}\n",
        "\n",
        "for ticker in tickers:\n",
        "    try:\n",
        "        # Download data using yfinance\n",
        "        data = yf.download(ticker, period='1mo')\n",
        "\n",
        "        # Store the data in the dictionary\n",
        "        all_data[ticker] = data\n",
        "        print(f\"Data downloaded successfully for {ticker}\")\n",
        "    except Exception as e:\n",
        "        print(f\"Error fetching data for {ticker}: {e}\")"
      ],
      "cell_type": "code",
      "metadata": {
        "colab": {
          "base_uri": "https://localhost:8080/"
        },
        "id": "UXEZ_eUs6UFZ",
        "outputId": "eea07453-5bcb-4423-eb4f-a5d7f78bc987"
      },
      "execution_count": null,
      "outputs": [
        {
          "output_type": "stream",
          "name": "stderr",
          "text": [
            "[*********************100%***********************]  1 of 1 completed\n",
            "[*********************100%***********************]  1 of 1 completed\n",
            "[*********************100%***********************]  1 of 1 completed\n"
          ]
        },
        {
          "output_type": "stream",
          "name": "stdout",
          "text": [
            "Data downloaded successfully for AAPL\n",
            "Data downloaded successfully for MSFT\n",
            "Data downloaded successfully for GOOGL\n"
          ]
        }
      ]
    },
    {
      "source": [
        "# Access data for a specific ticker (e.g., AAPL)\n",
        "aapl_data = all_data['AAPL']\n",
        "\n",
        "# Print the head of the AAPL data\n",
        "print(aapl_data.head())"
      ],
      "cell_type": "code",
      "metadata": {
        "colab": {
          "base_uri": "https://localhost:8080/"
        },
        "id": "JqYkJ_pp2x8k",
        "outputId": "d19bcb52-e85f-4ed8-bc92-75ee2d100cdb"
      },
      "execution_count": null,
      "outputs": [
        {
          "output_type": "stream",
          "name": "stdout",
          "text": [
            "Price            Close        High         Low        Open     Volume\n",
            "Ticker            AAPL        AAPL        AAPL        AAPL       AAPL\n",
            "Date                                                                 \n",
            "2025-04-03  203.190002  207.490005  201.250000  205.539993  103419000\n",
            "2025-04-04  188.380005  199.880005  187.339996  193.889999  125910900\n",
            "2025-04-07  181.460007  194.149994  174.619995  177.199997  160466300\n",
            "2025-04-08  172.419998  190.339996  169.210007  186.699997  120859500\n",
            "2025-04-09  198.850006  200.610001  171.889999  171.949997  184395900\n"
          ]
        }
      ]
    }
  ]
}